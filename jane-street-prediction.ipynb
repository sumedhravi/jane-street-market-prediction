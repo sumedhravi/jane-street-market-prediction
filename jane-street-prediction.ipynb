{
 "cells": [
  {
   "cell_type": "code",
   "execution_count": 1,
   "metadata": {
    "_cell_guid": "b1076dfc-b9ad-4769-8c92-a6c4dae69d19",
    "_uuid": "8f2839f25d086af736a60e9eeb907d3b93b6e0e5",
    "execution": {
     "iopub.execute_input": "2020-12-30T06:55:17.481939Z",
     "iopub.status.busy": "2020-12-30T06:55:17.481157Z",
     "iopub.status.idle": "2020-12-30T06:55:18.029974Z",
     "shell.execute_reply": "2020-12-30T06:55:18.029337Z"
    },
    "papermill": {
     "duration": 0.570765,
     "end_time": "2020-12-30T06:55:18.030107",
     "exception": false,
     "start_time": "2020-12-30T06:55:17.459342",
     "status": "completed"
    },
    "tags": []
   },
   "outputs": [
    {
     "name": "stdout",
     "output_type": "stream",
     "text": [
      "/kaggle/input/jane-street-market-prediction/example_sample_submission.csv\n",
      "/kaggle/input/jane-street-market-prediction/features.csv\n",
      "/kaggle/input/jane-street-market-prediction/example_test.csv\n",
      "/kaggle/input/jane-street-market-prediction/train.csv\n",
      "/kaggle/input/jane-street-market-prediction/janestreet/competition.cpython-37m-x86_64-linux-gnu.so\n",
      "/kaggle/input/jane-street-market-prediction/janestreet/__init__.py\n",
      "/kaggle/input/jsautoencoder42/model_42_3_finetune.hdf5\n",
      "/kaggle/input/jsautoencoder42/model_42_0.hdf5\n",
      "/kaggle/input/jsautoencoder42/model_42_0_finetune.hdf5\n",
      "/kaggle/input/jsautoencoder42/model_42_4_finetune.hdf5\n",
      "/kaggle/input/jsautoencoder42/model_42_3.hdf5\n",
      "/kaggle/input/jsautoencoder42/model_42_2.hdf5\n",
      "/kaggle/input/jsautoencoder42/encoder_42.hdf5\n",
      "/kaggle/input/jsautoencoder42/model_42_1_finetune.hdf5\n",
      "/kaggle/input/jsautoencoder42/submission.csv\n",
      "/kaggle/input/jsautoencoder42/model_42_1.hdf5\n",
      "/kaggle/input/jsautoencoder42/model_42_2_finetune.hdf5\n",
      "/kaggle/input/jsautoencoder42/best_hp_42.pkl\n",
      "/kaggle/input/jsautoencoder42/model_42_4.hdf5\n",
      "/kaggle/input/jsautoencoder42/jane_street_42/oracle.json\n",
      "/kaggle/input/jsautoencoder42/jane_street_42/tuner0.json\n",
      "/kaggle/input/jsautoencoder42/jane_street_42/trial_a74cbeed9e2b5de88df96e7fc83577d2/trial.json\n",
      "/kaggle/input/jsautoencoder42/jane_street_42/trial_a74cbeed9e2b5de88df96e7fc83577d2/checkpoints/epoch_0/checkpoint.data-00000-of-00001\n",
      "/kaggle/input/jsautoencoder42/jane_street_42/trial_a74cbeed9e2b5de88df96e7fc83577d2/checkpoints/epoch_0/checkpoint.index\n",
      "/kaggle/input/jsautoencoder42/jane_street_42/trial_a74cbeed9e2b5de88df96e7fc83577d2/checkpoints/epoch_0/checkpoint\n",
      "/kaggle/input/jsautoencoder42/jane_street_42/trial_a18779c0f7aaca0a726442fd9e9167c8/trial.json\n",
      "/kaggle/input/jsautoencoder42/jane_street_42/trial_a18779c0f7aaca0a726442fd9e9167c8/checkpoints/epoch_0/checkpoint.data-00000-of-00001\n",
      "/kaggle/input/jsautoencoder42/jane_street_42/trial_a18779c0f7aaca0a726442fd9e9167c8/checkpoints/epoch_0/checkpoint.index\n",
      "/kaggle/input/jsautoencoder42/jane_street_42/trial_a18779c0f7aaca0a726442fd9e9167c8/checkpoints/epoch_0/checkpoint\n",
      "/kaggle/input/jsautoencoder42/jane_street_42/trial_e07d950a2cea9d377d3b79edf767ca59/trial.json\n",
      "/kaggle/input/jsautoencoder42/jane_street_42/trial_e07d950a2cea9d377d3b79edf767ca59/checkpoints/epoch_0/checkpoint.data-00000-of-00001\n",
      "/kaggle/input/jsautoencoder42/jane_street_42/trial_e07d950a2cea9d377d3b79edf767ca59/checkpoints/epoch_0/checkpoint.index\n",
      "/kaggle/input/jsautoencoder42/jane_street_42/trial_e07d950a2cea9d377d3b79edf767ca59/checkpoints/epoch_0/checkpoint\n",
      "/kaggle/input/jsautoencoder42/jane_street_42/trial_ccf2736db1642ab33e083ca4b52c4830/trial.json\n",
      "/kaggle/input/jsautoencoder42/jane_street_42/trial_ccf2736db1642ab33e083ca4b52c4830/checkpoints/epoch_0/checkpoint.data-00000-of-00001\n",
      "/kaggle/input/jsautoencoder42/jane_street_42/trial_ccf2736db1642ab33e083ca4b52c4830/checkpoints/epoch_0/checkpoint.index\n",
      "/kaggle/input/jsautoencoder42/jane_street_42/trial_ccf2736db1642ab33e083ca4b52c4830/checkpoints/epoch_0/checkpoint\n",
      "/kaggle/input/jsautoencoder42/jane_street_42/trial_e187ad516f72ad41538d20f688f4ab99/trial.json\n",
      "/kaggle/input/jsautoencoder42/jane_street_42/trial_e187ad516f72ad41538d20f688f4ab99/checkpoints/epoch_0/checkpoint.data-00000-of-00001\n",
      "/kaggle/input/jsautoencoder42/jane_street_42/trial_e187ad516f72ad41538d20f688f4ab99/checkpoints/epoch_0/checkpoint.index\n",
      "/kaggle/input/jsautoencoder42/jane_street_42/trial_e187ad516f72ad41538d20f688f4ab99/checkpoints/epoch_0/checkpoint\n",
      "/kaggle/input/jsautoencoder42/jane_street_42/trial_9cee470d57626d5bee6c18ac9e4e4890/trial.json\n",
      "/kaggle/input/jsautoencoder42/jane_street_42/trial_9cee470d57626d5bee6c18ac9e4e4890/checkpoints/epoch_0/checkpoint.data-00000-of-00001\n",
      "/kaggle/input/jsautoencoder42/jane_street_42/trial_9cee470d57626d5bee6c18ac9e4e4890/checkpoints/epoch_0/checkpoint.index\n",
      "/kaggle/input/jsautoencoder42/jane_street_42/trial_9cee470d57626d5bee6c18ac9e4e4890/checkpoints/epoch_0/checkpoint\n",
      "/kaggle/input/jsautoencoder42/jane_street_42/trial_192172c04c8ac8939e2107d1c0b2011d/trial.json\n",
      "/kaggle/input/jsautoencoder42/jane_street_42/trial_192172c04c8ac8939e2107d1c0b2011d/checkpoints/epoch_0/checkpoint.data-00000-of-00001\n",
      "/kaggle/input/jsautoencoder42/jane_street_42/trial_192172c04c8ac8939e2107d1c0b2011d/checkpoints/epoch_0/checkpoint.index\n",
      "/kaggle/input/jsautoencoder42/jane_street_42/trial_192172c04c8ac8939e2107d1c0b2011d/checkpoints/epoch_0/checkpoint\n",
      "/kaggle/input/jsautoencoder42/jane_street_42/trial_7e71555a25a692b2fa999ffeed2f43da/trial.json\n",
      "/kaggle/input/jsautoencoder42/jane_street_42/trial_7e71555a25a692b2fa999ffeed2f43da/checkpoints/epoch_0/checkpoint.data-00000-of-00001\n",
      "/kaggle/input/jsautoencoder42/jane_street_42/trial_7e71555a25a692b2fa999ffeed2f43da/checkpoints/epoch_0/checkpoint.index\n",
      "/kaggle/input/jsautoencoder42/jane_street_42/trial_7e71555a25a692b2fa999ffeed2f43da/checkpoints/epoch_0/checkpoint\n",
      "/kaggle/input/jsautoencoder42/jane_street_42/trial_44684b389e8c8639a3d14b608cdcc021/trial.json\n",
      "/kaggle/input/jsautoencoder42/jane_street_42/trial_44684b389e8c8639a3d14b608cdcc021/checkpoints/epoch_0/checkpoint.data-00000-of-00001\n",
      "/kaggle/input/jsautoencoder42/jane_street_42/trial_44684b389e8c8639a3d14b608cdcc021/checkpoints/epoch_0/checkpoint.index\n",
      "/kaggle/input/jsautoencoder42/jane_street_42/trial_44684b389e8c8639a3d14b608cdcc021/checkpoints/epoch_0/checkpoint\n",
      "/kaggle/input/jsautoencoder42/jane_street_42/trial_ad4fc223c5122cfc0e55e89ce6ce82bd/trial.json\n",
      "/kaggle/input/jsautoencoder42/jane_street_42/trial_ad4fc223c5122cfc0e55e89ce6ce82bd/checkpoints/epoch_0/checkpoint.data-00000-of-00001\n",
      "/kaggle/input/jsautoencoder42/jane_street_42/trial_ad4fc223c5122cfc0e55e89ce6ce82bd/checkpoints/epoch_0/checkpoint.index\n",
      "/kaggle/input/jsautoencoder42/jane_street_42/trial_ad4fc223c5122cfc0e55e89ce6ce82bd/checkpoints/epoch_0/checkpoint\n",
      "/kaggle/input/jsautoencoder42/jane_street_42/trial_f7a3934b5a35c7b6fcde761f9a0a8e27/trial.json\n",
      "/kaggle/input/jsautoencoder42/jane_street_42/trial_f7a3934b5a35c7b6fcde761f9a0a8e27/checkpoints/epoch_0/checkpoint.data-00000-of-00001\n",
      "/kaggle/input/jsautoencoder42/jane_street_42/trial_f7a3934b5a35c7b6fcde761f9a0a8e27/checkpoints/epoch_0/checkpoint.index\n",
      "/kaggle/input/jsautoencoder42/jane_street_42/trial_f7a3934b5a35c7b6fcde761f9a0a8e27/checkpoints/epoch_0/checkpoint\n",
      "/kaggle/input/jsautoencoder42/jane_street_42/trial_e5f99c160045476e626a7e6807cfe67c/trial.json\n",
      "/kaggle/input/jsautoencoder42/jane_street_42/trial_e5f99c160045476e626a7e6807cfe67c/checkpoints/epoch_0/checkpoint.data-00000-of-00001\n",
      "/kaggle/input/jsautoencoder42/jane_street_42/trial_e5f99c160045476e626a7e6807cfe67c/checkpoints/epoch_0/checkpoint.index\n",
      "/kaggle/input/jsautoencoder42/jane_street_42/trial_e5f99c160045476e626a7e6807cfe67c/checkpoints/epoch_0/checkpoint\n",
      "/kaggle/input/jsautoencoder42/jane_street_42/trial_277e7104d0072e1cb816c8343b9cae82/trial.json\n",
      "/kaggle/input/jsautoencoder42/jane_street_42/trial_277e7104d0072e1cb816c8343b9cae82/checkpoints/epoch_0/checkpoint.data-00000-of-00001\n",
      "/kaggle/input/jsautoencoder42/jane_street_42/trial_277e7104d0072e1cb816c8343b9cae82/checkpoints/epoch_0/checkpoint.index\n",
      "/kaggle/input/jsautoencoder42/jane_street_42/trial_277e7104d0072e1cb816c8343b9cae82/checkpoints/epoch_0/checkpoint\n",
      "/kaggle/input/jsautoencoder42/jane_street_42/trial_9a9ace2b8310a3e61d8fbdef6c1b7b92/trial.json\n",
      "/kaggle/input/jsautoencoder42/jane_street_42/trial_9a9ace2b8310a3e61d8fbdef6c1b7b92/checkpoints/epoch_0/checkpoint.data-00000-of-00001\n",
      "/kaggle/input/jsautoencoder42/jane_street_42/trial_9a9ace2b8310a3e61d8fbdef6c1b7b92/checkpoints/epoch_0/checkpoint.index\n",
      "/kaggle/input/jsautoencoder42/jane_street_42/trial_9a9ace2b8310a3e61d8fbdef6c1b7b92/checkpoints/epoch_0/checkpoint\n",
      "/kaggle/input/jsautoencoder42/jane_street_42/trial_579db07ff60401d67dc26f92fb286ceb/trial.json\n",
      "/kaggle/input/jsautoencoder42/jane_street_42/trial_579db07ff60401d67dc26f92fb286ceb/checkpoints/epoch_0/checkpoint.data-00000-of-00001\n",
      "/kaggle/input/jsautoencoder42/jane_street_42/trial_579db07ff60401d67dc26f92fb286ceb/checkpoints/epoch_0/checkpoint.index\n",
      "/kaggle/input/jsautoencoder42/jane_street_42/trial_579db07ff60401d67dc26f92fb286ceb/checkpoints/epoch_0/checkpoint\n",
      "/kaggle/input/jsautoencoder42/jane_street_42/trial_44356c392a1aa1b410e79f033ec2399a/trial.json\n",
      "/kaggle/input/jsautoencoder42/jane_street_42/trial_44356c392a1aa1b410e79f033ec2399a/checkpoints/epoch_0/checkpoint.data-00000-of-00001\n",
      "/kaggle/input/jsautoencoder42/jane_street_42/trial_44356c392a1aa1b410e79f033ec2399a/checkpoints/epoch_0/checkpoint.index\n",
      "/kaggle/input/jsautoencoder42/jane_street_42/trial_44356c392a1aa1b410e79f033ec2399a/checkpoints/epoch_0/checkpoint\n",
      "/kaggle/input/jsautoencoder42/jane_street_42/trial_f466966d1c2e191a5016995eccef4da9/trial.json\n",
      "/kaggle/input/jsautoencoder42/jane_street_42/trial_f466966d1c2e191a5016995eccef4da9/checkpoints/epoch_0/checkpoint.data-00000-of-00001\n",
      "/kaggle/input/jsautoencoder42/jane_street_42/trial_f466966d1c2e191a5016995eccef4da9/checkpoints/epoch_0/checkpoint.index\n",
      "/kaggle/input/jsautoencoder42/jane_street_42/trial_f466966d1c2e191a5016995eccef4da9/checkpoints/epoch_0/checkpoint\n",
      "/kaggle/input/jsautoencoder42/jane_street_42/trial_18e3e946bd6be51d364ceae2fd206418/trial.json\n",
      "/kaggle/input/jsautoencoder42/jane_street_42/trial_18e3e946bd6be51d364ceae2fd206418/checkpoints/epoch_0/checkpoint.data-00000-of-00001\n",
      "/kaggle/input/jsautoencoder42/jane_street_42/trial_18e3e946bd6be51d364ceae2fd206418/checkpoints/epoch_0/checkpoint.index\n",
      "/kaggle/input/jsautoencoder42/jane_street_42/trial_18e3e946bd6be51d364ceae2fd206418/checkpoints/epoch_0/checkpoint\n",
      "/kaggle/input/jsautoencoder42/jane_street_42/trial_d7cc11f0f93556cafcdf9a5e809e18d9/trial.json\n",
      "/kaggle/input/jsautoencoder42/jane_street_42/trial_d7cc11f0f93556cafcdf9a5e809e18d9/checkpoints/epoch_0/checkpoint.data-00000-of-00001\n",
      "/kaggle/input/jsautoencoder42/jane_street_42/trial_d7cc11f0f93556cafcdf9a5e809e18d9/checkpoints/epoch_0/checkpoint.index\n",
      "/kaggle/input/jsautoencoder42/jane_street_42/trial_d7cc11f0f93556cafcdf9a5e809e18d9/checkpoints/epoch_0/checkpoint\n",
      "/kaggle/input/jsautoencoder42/jane_street_42/trial_7a39adb734a1b32badd791c67d58f56b/trial.json\n",
      "/kaggle/input/jsautoencoder42/jane_street_42/trial_7a39adb734a1b32badd791c67d58f56b/checkpoints/epoch_0/checkpoint.data-00000-of-00001\n",
      "/kaggle/input/jsautoencoder42/jane_street_42/trial_7a39adb734a1b32badd791c67d58f56b/checkpoints/epoch_0/checkpoint.index\n",
      "/kaggle/input/jsautoencoder42/jane_street_42/trial_7a39adb734a1b32badd791c67d58f56b/checkpoints/epoch_0/checkpoint\n"
     ]
    }
   ],
   "source": [
    "# This Python 3 environment comes with many helpful analytics libraries installed\n",
    "# It is defined by the kaggle/python Docker image: https://github.com/kaggle/docker-python\n",
    "# For example, here's several helpful packages to load\n",
    "\n",
    "import numpy as np # linear algebra\n",
    "import pandas as pd # data processing, CSV file I/O (e.g. pd.read_csv)\n",
    "\n",
    "# Input data files are available in the read-only \"../input/\" directory\n",
    "# For example, running this (by clicking run or pressing Shift+Enter) will list all files under the input directory\n",
    "\n",
    "import os\n",
    "for dirname, _, filenames in os.walk('/kaggle/input'):\n",
    "    for filename in filenames:\n",
    "        print(os.path.join(dirname, filename))\n",
    "\n",
    "# You can write up to 20GB to the current directory (/kaggle/working/) that gets preserved as output when you create a version using \"Save & Run All\" \n",
    "# You can also write temporary files to /kaggle/temp/, but they won't be saved outside of the current session"
   ]
  },
  {
   "cell_type": "code",
   "execution_count": 2,
   "metadata": {
    "_cell_guid": "79c7e3d0-c299-4dcb-8224-4455121ee9b0",
    "_uuid": "d629ff2d2480ee46fbb7e2d37f6b5fab8052498a",
    "execution": {
     "iopub.execute_input": "2020-12-30T06:55:18.063607Z",
     "iopub.status.busy": "2020-12-30T06:55:18.062861Z",
     "iopub.status.idle": "2020-12-30T06:55:25.551894Z",
     "shell.execute_reply": "2020-12-30T06:55:25.551254Z"
    },
    "papermill": {
     "duration": 7.509313,
     "end_time": "2020-12-30T06:55:25.552021",
     "exception": false,
     "start_time": "2020-12-30T06:55:18.042708",
     "status": "completed"
    },
    "tags": []
   },
   "outputs": [],
   "source": [
    "\n",
    "\n",
    "from tensorflow.keras.layers import Input, Dense, BatchNormalization, Dropout, Concatenate, Lambda, GaussianNoise, Activation\n",
    "from tensorflow.keras.models import Model, Sequential\n",
    "from tensorflow.keras.losses import BinaryCrossentropy\n",
    "from tensorflow.keras.optimizers import Adam\n",
    "from tensorflow.keras.callbacks import EarlyStopping, ReduceLROnPlateau\n",
    "from tensorflow.keras.layers.experimental.preprocessing import Normalization\n",
    "import tensorflow as tf\n",
    "import numpy as np\n",
    "import pandas as pd\n",
    "from sklearn.model_selection import GroupKFold\n",
    "\n",
    "from tqdm import tqdm\n",
    "from random import choices\n",
    "import random\n",
    "\n",
    "\n",
    "import kerastuner as kt\n",
    "\n"
   ]
  },
  {
   "cell_type": "code",
   "execution_count": 3,
   "metadata": {
    "execution": {
     "iopub.execute_input": "2020-12-30T06:55:25.581904Z",
     "iopub.status.busy": "2020-12-30T06:55:25.580900Z",
     "iopub.status.idle": "2020-12-30T06:55:25.583320Z",
     "shell.execute_reply": "2020-12-30T06:55:25.583795Z"
    },
    "papermill": {
     "duration": 0.019939,
     "end_time": "2020-12-30T06:55:25.583936",
     "exception": false,
     "start_time": "2020-12-30T06:55:25.563997",
     "status": "completed"
    },
    "tags": []
   },
   "outputs": [],
   "source": [
    "def set_all_seeds(seed):\n",
    "    np.random.seed(seed)\n",
    "    random.seed(seed)\n",
    "    tf.random.set_seed(seed)"
   ]
  },
  {
   "cell_type": "code",
   "execution_count": 4,
   "metadata": {
    "execution": {
     "iopub.execute_input": "2020-12-30T06:55:25.611206Z",
     "iopub.status.busy": "2020-12-30T06:55:25.610220Z",
     "iopub.status.idle": "2020-12-30T06:55:25.625445Z",
     "shell.execute_reply": "2020-12-30T06:55:25.625952Z"
    },
    "papermill": {
     "duration": 0.030447,
     "end_time": "2020-12-30T06:55:25.626104",
     "exception": false,
     "start_time": "2020-12-30T06:55:25.595657",
     "status": "completed"
    },
    "tags": []
   },
   "outputs": [],
   "source": [
    "class CVTuner(kt.engine.tuner.Tuner):\n",
    "    def run_trial(self, trial, X, y, splits, batch_size=32, epochs=1,callbacks=None):\n",
    "        val_losses = []\n",
    "        for train_indices, test_indices in splits:\n",
    "            X_train, X_test = [x[train_indices] for x in X], [x[test_indices] for x in X]\n",
    "            y_train, y_test = [a[train_indices] for a in y], [a[test_indices] for a in y]\n",
    "            if len(X_train) < 2:\n",
    "                X_train = X_train[0]\n",
    "                X_test = X_test[0]\n",
    "            if len(y_train) < 2:\n",
    "                y_train = y_train[0]\n",
    "                y_test = y_test[0]\n",
    "            \n",
    "            model = self.hypermodel.build(trial.hyperparameters)\n",
    "            hist = model.fit(X_train,y_train,\n",
    "                      validation_data=(X_test,y_test),\n",
    "                      epochs=epochs,\n",
    "                        batch_size=batch_size,\n",
    "                      callbacks=callbacks)\n",
    "            \n",
    "            val_losses.append([hist.history[k][-1] for k in hist.history])\n",
    "        val_losses = np.asarray(val_losses)\n",
    "        self.oracle.update_trial(trial.trial_id, {k:np.mean(val_losses[:,i]) for i,k in enumerate(hist.history.keys())})\n",
    "        self.save_model(trial.trial_id, model)"
   ]
  },
  {
   "cell_type": "code",
   "execution_count": 5,
   "metadata": {
    "execution": {
     "iopub.execute_input": "2020-12-30T06:55:25.653590Z",
     "iopub.status.busy": "2020-12-30T06:55:25.652615Z",
     "iopub.status.idle": "2020-12-30T06:58:09.635466Z",
     "shell.execute_reply": "2020-12-30T06:58:09.636011Z"
    },
    "papermill": {
     "duration": 163.998289,
     "end_time": "2020-12-30T06:58:09.636189",
     "exception": false,
     "start_time": "2020-12-30T06:55:25.637900",
     "status": "completed"
    },
    "tags": []
   },
   "outputs": [],
   "source": [
    "TRAINING = False\n",
    "USE_FINETUNE = True\n",
    "FOLDS = 5\n",
    "SEED = 42\n",
    "\n",
    "train = pd.read_csv('../input/jane-street-market-prediction/train.csv')\n",
    "train = train.query('date > 85').reset_index(drop = True) \n",
    "train = train.astype({c: np.float32 for c in train.select_dtypes(include='float64').columns}) #limit memory use\n",
    "train.fillna(train.mean(),inplace=True)\n",
    "#train = train.query('weight > 0').reset_index(drop = True)\n",
    "\n",
    "features = [c for c in train.columns if 'feature' in c]\n",
    "resp_cols = ['resp_1', 'resp_2', 'resp_3', 'resp', 'resp_4']\n",
    "EPSILON = {c:0.0 for c in resp_cols}\n",
    "\n",
    "X = train[features].values\n",
    "y = np.stack([(train[c] > EPSILON[c]).astype('int') for c in resp_cols]).T #Multitarget\n",
    "\n",
    "f_mean = np.mean(train[features[1:]].values,axis=0)"
   ]
  },
  {
   "cell_type": "code",
   "execution_count": 6,
   "metadata": {
    "execution": {
     "iopub.execute_input": "2020-12-30T06:58:09.671649Z",
     "iopub.status.busy": "2020-12-30T06:58:09.670533Z",
     "iopub.status.idle": "2020-12-30T06:58:09.683025Z",
     "shell.execute_reply": "2020-12-30T06:58:09.682366Z"
    },
    "papermill": {
     "duration": 0.034569,
     "end_time": "2020-12-30T06:58:09.683158",
     "exception": false,
     "start_time": "2020-12-30T06:58:09.648589",
     "status": "completed"
    },
    "tags": []
   },
   "outputs": [],
   "source": [
    "def create_encoder(input_dim,output_dim,noise=0.05):\n",
    "    i = Input(input_dim)\n",
    "    encoded = BatchNormalization()(i)\n",
    "    encoded = GaussianNoise(noise)(encoded)\n",
    "    encoded = Dense(128,activation='relu')(encoded)\n",
    "    encoded = BatchNormalization()(encoded)\n",
    "    encoded = Dropout(0.2)(encoded)\n",
    "    \n",
    "    encoded = Dense(64,activation='relu')(encoded)\n",
    "    \n",
    "    decoded = BatchNormalization()(encoded)\n",
    "    decoded = Dropout(0.2)(decoded)\n",
    "    decoded = Dense(128,activation='relu')(decoded)\n",
    "    decoded = BatchNormalization()(decoded)\n",
    "    decoded = Dropout(0.2)(decoded)\n",
    "    decoded = Dense(input_dim,name='decoded')(decoded)\n",
    "    \n",
    "    x = Dense(32)(decoded)\n",
    "    x = BatchNormalization()(x)\n",
    "    x = Lambda(tf.keras.activations.swish)(x)\n",
    "    x = Dropout(0.2)(x)\n",
    "    x = Dense(16)(x)\n",
    "    x = BatchNormalization()(x)\n",
    "    x = Lambda(tf.keras.activations.swish)(x)\n",
    "    x = Dropout(0.2)(x)\n",
    "    x = Dense(output_dim,activation='sigmoid',name='label_output')(x)\n",
    "    \n",
    "    encoder = Model(inputs=i,outputs=decoded)\n",
    "    autoencoder = Model(inputs=i,outputs=[decoded,x])\n",
    "    \n",
    "    autoencoder.compile(optimizer=Adam(0.01),loss={'decoded':'mse','label_output':'binary_crossentropy'})\n",
    "    return autoencoder, encoder"
   ]
  },
  {
   "cell_type": "code",
   "execution_count": 7,
   "metadata": {
    "execution": {
     "iopub.execute_input": "2020-12-30T06:58:09.720303Z",
     "iopub.status.busy": "2020-12-30T06:58:09.716524Z",
     "iopub.status.idle": "2020-12-30T06:58:09.724774Z",
     "shell.execute_reply": "2020-12-30T06:58:09.724128Z"
    },
    "papermill": {
     "duration": 0.029119,
     "end_time": "2020-12-30T06:58:09.724890",
     "exception": false,
     "start_time": "2020-12-30T06:58:09.695771",
     "status": "completed"
    },
    "tags": []
   },
   "outputs": [],
   "source": [
    "def create_model(hp,input_dim,output_dim,encoder):\n",
    "    inputs = Input(input_dim)\n",
    "    \n",
    "    x = encoder(inputs)\n",
    "    x = Concatenate()([x,inputs]) #use both raw and de-noised features\n",
    "    x = BatchNormalization()(x)\n",
    "    x = Dropout(hp.Float('init_dropout',0.0,0.5))(x)\n",
    "    \n",
    "    for i in range(hp.Int('num_layers',1,3)):\n",
    "        x = Dense(hp.Int('num_units_{i}',64,256))(x)\n",
    "        x = BatchNormalization()(x)\n",
    "        x = Lambda(tf.keras.activations.swish)(x)\n",
    "        x = Dropout(hp.Float(f'dropout_{i}',0.0,0.5))(x)\n",
    "    x = Dense(output_dim,activation='sigmoid')(x)\n",
    "    model = Model(inputs=inputs,outputs=x)\n",
    "    model.compile(optimizer=Adam(hp.Fixed('lr',0.01)),loss=BinaryCrossentropy(label_smoothing=hp.Float('label_smoothing',0.0,0.1)),metrics=[tf.keras.metrics.AUC(name = 'auc')])\n",
    "    return model\n",
    "\n"
   ]
  },
  {
   "cell_type": "code",
   "execution_count": 8,
   "metadata": {
    "execution": {
     "iopub.execute_input": "2020-12-30T06:58:09.767449Z",
     "iopub.status.busy": "2020-12-30T06:58:09.763276Z",
     "iopub.status.idle": "2020-12-30T06:58:09.770331Z",
     "shell.execute_reply": "2020-12-30T06:58:09.769710Z"
    },
    "papermill": {
     "duration": 0.033214,
     "end_time": "2020-12-30T06:58:09.770450",
     "exception": false,
     "start_time": "2020-12-30T06:58:09.737236",
     "status": "completed"
    },
    "tags": []
   },
   "outputs": [],
   "source": [
    "class LiteModel:\n",
    "    \n",
    "    @classmethod\n",
    "    def from_file(cls, model_path):\n",
    "        return LiteModel(tf.lite.Interpreter(model_path=model_path))\n",
    "    \n",
    "    @classmethod\n",
    "    def from_keras_model(cls, kmodel):\n",
    "        converter = tf.lite.TFLiteConverter.from_keras_model(kmodel)\n",
    "        tflite_model = converter.convert()\n",
    "        return LiteModel(tf.lite.Interpreter(model_content=tflite_model))\n",
    "    \n",
    "    def __init__(self, interpreter):\n",
    "        self.interpreter = interpreter\n",
    "        self.interpreter.allocate_tensors()\n",
    "        input_det = self.interpreter.get_input_details()[0]\n",
    "        output_det = self.interpreter.get_output_details()[0]\n",
    "        self.input_index = input_det[\"index\"]\n",
    "        self.output_index = output_det[\"index\"]\n",
    "        self.input_shape = input_det[\"shape\"]\n",
    "        self.output_shape = output_det[\"shape\"]\n",
    "        self.input_dtype = input_det[\"dtype\"]\n",
    "        self.output_dtype = output_det[\"dtype\"]\n",
    "        \n",
    "    def predict(self, inp):\n",
    "        inp = inp.astype(self.input_dtype)\n",
    "        count = inp.shape[0]\n",
    "        out = np.zeros((count, self.output_shape[1]), dtype=self.output_dtype)\n",
    "        for i in range(count):\n",
    "            self.interpreter.set_tensor(self.input_index, inp[i:i+1])\n",
    "            self.interpreter.invoke()\n",
    "            out[i] = self.interpreter.get_tensor(self.output_index)[0]\n",
    "        return out\n",
    "    \n",
    "    def predict_single(self, inp):\n",
    "        \"\"\" Like predict(), but only for a single record. The input data can be a Python list. \"\"\"\n",
    "        inp = np.array([inp], dtype=self.input_dtype)\n",
    "        self.interpreter.set_tensor(self.input_index, inp)\n",
    "        self.interpreter.invoke()\n",
    "        out = self.interpreter.get_tensor(self.output_index)\n",
    "        return out[0]"
   ]
  },
  {
   "cell_type": "code",
   "execution_count": 9,
   "metadata": {
    "execution": {
     "iopub.execute_input": "2020-12-30T06:58:09.799132Z",
     "iopub.status.busy": "2020-12-30T06:58:09.798408Z",
     "iopub.status.idle": "2020-12-30T06:58:37.727411Z",
     "shell.execute_reply": "2020-12-30T06:58:37.725413Z"
    },
    "papermill": {
     "duration": 27.944129,
     "end_time": "2020-12-30T06:58:37.727571",
     "exception": false,
     "start_time": "2020-12-30T06:58:09.783442",
     "status": "completed"
    },
    "tags": []
   },
   "outputs": [],
   "source": [
    "SEEDS=[42]\n",
    "models = []\n",
    "for SEED in SEEDS:\n",
    "    _, encoder = create_encoder(X.shape[-1],y.shape[-1],noise=0.1)\n",
    "    encoder.trainable=False\n",
    "    hp = pd.read_pickle(f'../input/jsautoencoder42/best_hp_{SEED}.pkl')\n",
    "    for f in range(FOLDS):\n",
    "        model = create_model(hp,X.shape[-1],y.shape[-1],encoder)\n",
    "        if USE_FINETUNE:\n",
    "            model.load_weights(f'../input/jsautoencoder42/model_{SEED}_{f}_finetune.hdf5')\n",
    "        else:\n",
    "            model.load_weights(f'../input/jsautoencoder42/model_{SEED}_{f}.hdf5')\n",
    "        model = LiteModel.from_keras_model(model)\n",
    "        models.append(model)"
   ]
  },
  {
   "cell_type": "code",
   "execution_count": 10,
   "metadata": {
    "execution": {
     "iopub.execute_input": "2020-12-30T06:58:37.757239Z",
     "iopub.status.busy": "2020-12-30T06:58:37.756607Z",
     "iopub.status.idle": "2020-12-30T06:58:37.786944Z",
     "shell.execute_reply": "2020-12-30T06:58:37.786361Z"
    },
    "papermill": {
     "duration": 0.047037,
     "end_time": "2020-12-30T06:58:37.787063",
     "exception": false,
     "start_time": "2020-12-30T06:58:37.740026",
     "status": "completed"
    },
    "tags": []
   },
   "outputs": [],
   "source": [
    "import janestreet"
   ]
  },
  {
   "cell_type": "code",
   "execution_count": 11,
   "metadata": {
    "execution": {
     "iopub.execute_input": "2020-12-30T06:58:37.817148Z",
     "iopub.status.busy": "2020-12-30T06:58:37.816508Z",
     "iopub.status.idle": "2020-12-30T07:01:52.231283Z",
     "shell.execute_reply": "2020-12-30T07:01:52.230693Z"
    },
    "papermill": {
     "duration": 194.431189,
     "end_time": "2020-12-30T07:01:52.231418",
     "exception": false,
     "start_time": "2020-12-30T06:58:37.800229",
     "status": "completed"
    },
    "tags": []
   },
   "outputs": [
    {
     "name": "stderr",
     "output_type": "stream",
     "text": [
      "15219it [03:14, 78.29it/s]\n"
     ]
    }
   ],
   "source": [
    "if not TRAINING:\n",
    "    import janestreet\n",
    "    #janestreet.competition.make_env.__called__ = False\n",
    "    env = janestreet.make_env()\n",
    "    th = 0.5\n",
    "    #w = np.asarray([0.1,0.1,0.1,0.5,0.2])\n",
    "    for (test_df, pred_df) in tqdm(env.iter_test()):\n",
    "        if test_df['weight'].item() > 0:\n",
    "            x_tt = test_df.loc[:, features].values\n",
    "            if np.isnan(x_tt[:, 1:].sum()):\n",
    "                x_tt[:, 1:] = np.nan_to_num(x_tt[:, 1:]) + np.isnan(x_tt[:, 1:]) * f_mean\n",
    "            pred = np.mean([model.predict(x_tt) for model in models],axis=0).squeeze()\n",
    "            pred = np.mean(pred)\n",
    "            pred_df.action = np.where(pred > th, 1, 0).astype(int)\n",
    "        else:\n",
    "            pred_df.action = 0\n",
    "        env.predict(pred_df)"
   ]
  },
  {
   "cell_type": "code",
   "execution_count": 12,
   "metadata": {
    "execution": {
     "iopub.execute_input": "2020-12-30T07:01:53.457837Z",
     "iopub.status.busy": "2020-12-30T07:01:53.457148Z",
     "iopub.status.idle": "2020-12-30T07:01:53.460717Z",
     "shell.execute_reply": "2020-12-30T07:01:53.460131Z"
    },
    "papermill": {
     "duration": 0.618665,
     "end_time": "2020-12-30T07:01:53.460832",
     "exception": false,
     "start_time": "2020-12-30T07:01:52.842167",
     "status": "completed"
    },
    "tags": []
   },
   "outputs": [],
   "source": [
    "# pred_df.to_csv('submission.csv')"
   ]
  },
  {
   "cell_type": "code",
   "execution_count": 13,
   "metadata": {
    "execution": {
     "iopub.execute_input": "2020-12-30T07:01:54.676457Z",
     "iopub.status.busy": "2020-12-30T07:01:54.675350Z",
     "iopub.status.idle": "2020-12-30T07:01:54.678899Z",
     "shell.execute_reply": "2020-12-30T07:01:54.678306Z"
    },
    "papermill": {
     "duration": 0.614269,
     "end_time": "2020-12-30T07:01:54.679036",
     "exception": false,
     "start_time": "2020-12-30T07:01:54.064767",
     "status": "completed"
    },
    "tags": []
   },
   "outputs": [],
   "source": [
    "# test_df"
   ]
  },
  {
   "cell_type": "code",
   "execution_count": null,
   "metadata": {
    "papermill": {
     "duration": 0.592743,
     "end_time": "2020-12-30T07:01:55.872086",
     "exception": false,
     "start_time": "2020-12-30T07:01:55.279343",
     "status": "completed"
    },
    "tags": []
   },
   "outputs": [],
   "source": []
  }
 ],
 "metadata": {
  "kernelspec": {
   "display_name": "Python 3",
   "language": "python",
   "name": "python3"
  },
  "language_info": {
   "codemirror_mode": {
    "name": "ipython",
    "version": 3
   },
   "file_extension": ".py",
   "mimetype": "text/x-python",
   "name": "python",
   "nbconvert_exporter": "python",
   "pygments_lexer": "ipython3",
   "version": "3.7.6"
  },
  "papermill": {
   "duration": 405.169791,
   "end_time": "2020-12-30T07:01:57.575318",
   "environment_variables": {},
   "exception": null,
   "input_path": "__notebook__.ipynb",
   "output_path": "__notebook__.ipynb",
   "parameters": {},
   "start_time": "2020-12-30T06:55:12.405527",
   "version": "2.1.0"
  }
 },
 "nbformat": 4,
 "nbformat_minor": 4
}
